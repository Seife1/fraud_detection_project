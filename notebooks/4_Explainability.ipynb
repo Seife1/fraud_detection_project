{
 "cells": [
  {
   "cell_type": "markdown",
   "metadata": {},
   "source": [
    "# Fraud Detection Model Explainability with SHAP and LIME\n",
    "In this notebook, I explore model explainability techniques using SHAP (Shapley Additive exPlanations) and LIME (Local Interpretable Model-agnostic Explanations) to interpret a fraud detection model. Explainability is essential for understanding, trusting, and improving machine learning models, especially in fields like fraud detection, where knowing the `“why”` behind a model's decisions can help identify patterns and unusual behaviors in transactions.\n",
    "\n",
    "This notebook will cover the following tasks:\n",
    "\n",
    "* Using SHAP for Explainability:\n",
    "\n",
    "**Summary Plot**: Provides a global view of feature importance, helping identify which factors most influence fraud predictions across the dataset.\n",
    "\n",
    "**Force Plot**: Visualizes the contribution of each feature to a specific prediction, making it easier to understand individual instances.\n",
    "\n",
    "**Dependence Plot**: Shows the relationship between individual features and the model output, highlighting feature interactions.\n",
    "\n",
    "* Using LIME for Explainability:\n",
    "\n",
    "**Feature Importance Plot**: Demonstrates the most influential features for a single prediction, giving insights into why a specific transaction was flagged as potentially fraudulent."
   ]
  },
  {
   "cell_type": "code",
   "execution_count": null,
   "metadata": {},
   "outputs": [
    {
     "ename": "",
     "evalue": "",
     "output_type": "error",
     "traceback": [
      "\u001b[1;31mRunning cells with 'XAIpy10 (Python 3.10.15)' requires the ipykernel package.\n",
      "\u001b[1;31mRun the following command to install 'ipykernel' into the Python environment. \n",
      "\u001b[1;31mCommand: 'conda install -n XAIpy10 ipykernel --update-deps --force-reinstall'"
     ]
    }
   ],
   "source": [
    "# Import neccessary modules\n",
    "import pandas as pd\n",
    "from sklearn.model_selection import train_test_split\n",
    "\n",
    "import os, sys\n",
    "# Add the 'src' directory to the Python path for module imports\n",
    "sys.path.append(os.path.abspath(os.path.join('..', 'src')))\n",
    "\n",
    "from explainability import FraudDetectionExplainer\n",
    "\n",
    "# Configure logging\n",
    "from logger import SetupLogger\n",
    "# Assuming this class is defined in src/\n",
    "from data_preprocessing import LoadData\n",
    "\n",
    "logger = SetupLogger(log_file='../logs/model_XAI.log').get_logger()"
   ]
  },
  {
   "cell_type": "code",
   "execution_count": null,
   "metadata": {},
   "outputs": [],
   "source": [
    "# Initialize the LoadData class\n",
    "fraud_data_init = LoadData(filepath='../data/processed/processed_fraud_data.csv', logger=logger)\n",
    "fraud_data = fraud_data_init.load_dataset().set_index('user_id')"
   ]
  },
  {
   "cell_type": "code",
   "execution_count": null,
   "metadata": {},
   "outputs": [],
   "source": [
    "# Convert signup_time and purchase_time to datetime\n",
    "fraud_data['signup_time'] = pd.to_datetime(fraud_data['signup_time'])\n",
    "fraud_data['purchase_time'] = pd.to_datetime(fraud_data['purchase_time'])\n",
    "\n",
    "# Feature engineering: Calculate the time difference between signup and purchase\n",
    "fraud_data['time_diff'] = (fraud_data['purchase_time'] - fraud_data['signup_time']).dt.total_seconds()\n",
    "\n",
    "# Drop unnecessary columns\n",
    "fraud_data = fraud_data.drop(columns=['Unnamed: 0', 'signup_time', 'purchase_time', 'device_id', 'ip_address'])\n",
    "\n",
    "\n",
    "# Define target and features\n",
    "X_fraud = fraud_data.drop(columns=['class'])\n",
    "y_fraud = fraud_data['class']\n",
    "\n",
    "# Split for Fraud_Data.csv\n",
    "X_fraud_train, X_fraud_test, y_fraud_train, y_fraud_test = train_test_split(X_fraud, y_fraud, test_size=0.2, random_state=42)\n"
   ]
  },
  {
   "cell_type": "code",
   "execution_count": null,
   "metadata": {},
   "outputs": [],
   "source": [
    "explainer = FraudDetectionExplainer(\"../best_models/random_forest_fraud_data_best_model.pkl\", X_fraud_test)\n",
    "\n",
    "explainer.explain(instance_idx=0)"
   ]
  }
 ],
 "metadata": {
  "kernelspec": {
   "display_name": "XAIpy10",
   "language": "python",
   "name": "python3"
  },
  "language_info": {
   "codemirror_mode": {
    "name": "ipython",
    "version": 3
   },
   "file_extension": ".py",
   "mimetype": "text/x-python",
   "name": "python",
   "nbconvert_exporter": "python",
   "pygments_lexer": "ipython3",
   "version": "3.10.15"
  }
 },
 "nbformat": 4,
 "nbformat_minor": 2
}
